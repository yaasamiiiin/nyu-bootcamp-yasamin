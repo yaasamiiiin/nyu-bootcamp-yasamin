{
 "cells": [
  {
   "cell_type": "markdown",
   "id": "91e812f9",
   "metadata": {},
   "source": [
    "## Data Science BootCamp Week 2 Take Home\n",
    "#### Chapter 1, Monday sessions\n",
    "By Yasamin Esmaeili"
   ]
  },
  {
   "cell_type": "code",
   "execution_count": 2,
   "id": "5e4cb9a7",
   "metadata": {},
   "outputs": [],
   "source": [
    "#   Importing base libraries\n",
    "import numpy as np\n",
    "import pandas as pd"
   ]
  },
  {
   "cell_type": "markdown",
   "id": "52a6028d",
   "metadata": {},
   "source": [
    "### Practice Questions for Numpy\n",
    "#### 1. Numpy arrays stacking"
   ]
  },
  {
   "cell_type": "code",
   "execution_count": 4,
   "id": "4ddfed37",
   "metadata": {},
   "outputs": [
    {
     "name": "stdout",
     "output_type": "stream",
     "text": [
      "Vertical Stacking:\n",
      " [[ 1  1  1]\n",
      " [ 1  9  1]\n",
      " [ 1  1  1]\n",
      " [ 7  8  9]\n",
      " [10 11 12]\n",
      " [13 14 15]]\n",
      "\n",
      "Horizontal Stacking:\n",
      " [[ 1  1  1  7  8  9]\n",
      " [ 1  9  1 10 11 12]\n",
      " [ 1  1  1 13 14 15]]\n"
     ]
    }
   ],
   "source": [
    "# Custom arrays\n",
    "A = np.array([[1, 1, 1], [1, 9, 1] , [1, 1, 1]])\n",
    "B = np.array([[7, 8, 9], [10, 11, 12], [13, 14, 15]])\n",
    "\n",
    "# Vertical stacking\n",
    "C = np.vstack((A, B))\n",
    "print(\"Vertical Stacking:\\n\", C)\n",
    "\n",
    "# Horizontal stacking\n",
    "D = np.hstack((A, B))\n",
    "print(\"\\nHorizontal Stacking:\\n\", D)"
   ]
  },
  {
   "cell_type": "markdown",
   "id": "656e6151",
   "metadata": {},
   "source": [
    "#### 2. Common elements of two arrays\n",
    "Numpy has a built-in function \"intersect1d\" that finds the intersection between two arrays."
   ]
  },
  {
   "cell_type": "code",
   "execution_count": 6,
   "id": "8d54684e",
   "metadata": {},
   "outputs": [
    {
     "name": "stdout",
     "output_type": "stream",
     "text": [
      "The common elements of A and B are: [9]\n"
     ]
    }
   ],
   "source": [
    "print(f\"The common elements of A and B are: {np.intersect1d(A, B)}\")"
   ]
  },
  {
   "cell_type": "markdown",
   "id": "22d07034",
   "metadata": {},
   "source": [
    "#### 3. Elements that are within a specific range\n",
    "The specific range is 5 to 10. We are going to use np.where() to extract all elements in A (or B) that are within this range."
   ]
  },
  {
   "cell_type": "code",
   "execution_count": null,
   "id": "72846bea",
   "metadata": {},
   "outputs": [
    {
     "name": "stdout",
     "output_type": "stream",
     "text": [
      "Elements in A within the range 5 to 10: [9]\n"
     ]
    }
   ],
   "source": [
    "pass_range_A = np.where((A >= 5) & (A <= 10))\n",
    "print(f\"Elements in A within the range 5 to 10: {A[pass_range_A]}\")"
   ]
  },
  {
   "cell_type": "markdown",
   "id": "1aaa9f1d",
   "metadata": {},
   "source": [
    "Let's test it on B since the values have more variety."
   ]
  },
  {
   "cell_type": "code",
   "execution_count": null,
   "id": "5cf7fdd1",
   "metadata": {},
   "outputs": [
    {
     "name": "stdout",
     "output_type": "stream",
     "text": [
      "Elements in B within the range 5 to 10: [ 7  8  9 10]\n"
     ]
    }
   ],
   "source": [
    "pass_range_B = np.where((B >= 5) & (B <= 10))\n",
    "print(f\"Elements in B within the range 5 to 10: {B[pass_range_B]}\")"
   ]
  },
  {
   "cell_type": "markdown",
   "id": "9df2ef10",
   "metadata": {},
   "source": [
    "#### 4. Filtering a large numpy array\n",
    "We need to filter the rows of iris_2d that have a 3rd column>1.5 and 1st column<5"
   ]
  },
  {
   "cell_type": "code",
   "execution_count": null,
   "id": "4fae24ec",
   "metadata": {},
   "outputs": [],
   "source": [
    "# Loading the dataset\n",
    "url = 'https://archive.ics.uci.edu/ml/machine-learning-databases/iris/iris.data'\n",
    "iris_2d = np.genfromtxt(url, delimiter=',', dtype='float', usecols=[0,1,2,3])"
   ]
  },
  {
   "cell_type": "code",
   "execution_count": null,
   "id": "35e5b77d",
   "metadata": {},
   "outputs": [
    {
     "name": "stdout",
     "output_type": "stream",
     "text": [
      "\n",
      "Filtered Iris Data:\n",
      " [[4.8 3.4 1.6 0.2]\n",
      " [4.8 3.4 1.9 0.2]\n",
      " [4.7 3.2 1.6 0.2]\n",
      " [4.8 3.1 1.6 0.2]\n",
      " [4.9 2.4 3.3 1. ]\n",
      " [4.9 2.5 4.5 1.7]]\n"
     ]
    }
   ],
   "source": [
    "iris_2d_filtered = iris_2d[np.where((iris_2d[:, 2] > 1.5) & (iris_2d[:, 0] < 5.0))]\n",
    "print(\"\\nFiltered Iris Data:\\n\", iris_2d_filtered)"
   ]
  },
  {
   "cell_type": "markdown",
   "id": "c5d55a42",
   "metadata": {},
   "source": [
    "### Practice questions for Pandas\n",
    "#### 1. Filtering the data frame."
   ]
  },
  {
   "cell_type": "code",
   "execution_count": null,
   "id": "6818493e",
   "metadata": {},
   "outputs": [],
   "source": [
    "# Loading the dataset\n",
    "df = pd.read_csv('https://raw.githubusercontent.com/selva86/datasets/master/Cars93_miss.csv')\n",
    "# print(df.keys()) # To get a sense of the columns\n",
    "# df.info()\n",
    "# df.describe(include='all')"
   ]
  },
  {
   "cell_type": "code",
   "execution_count": 26,
   "id": "fe457143",
   "metadata": {},
   "outputs": [
    {
     "name": "stdout",
     "output_type": "stream",
     "text": [
      "\n",
      "Filtered DataFrame:\n",
      "    Manufacturer    Model     Type\n",
      "0         Acura  Integra    Small\n",
      "20     Chrysler  LeBaron  Compact\n",
      "40        Honda  Prelude   Sporty\n",
      "60      Mercury   Cougar  Midsize\n",
      "80       Subaru   Loyale    Small\n"
     ]
    }
   ],
   "source": [
    "# Only keeping the columns 'Manufacturer', 'Model' and 'Type' for every 20th row\n",
    "# using step slicing by row position\n",
    "df_filtered = df.iloc[0::20][['Manufacturer', 'Model', 'Type']]\n",
    "print(\"\\nFiltered DataFrame:\\n\", df_filtered)"
   ]
  },
  {
   "cell_type": "markdown",
   "id": "203633a5",
   "metadata": {},
   "source": [
    "#### 2. Replace missing values\n",
    "The question asks to replace the values in the columns 'Min.Price' and 'Max.Price' with their respective mean.\n",
    "\n",
    "I'm assuming missing valeus are repsresnted with NaNs. In this case we can use the built-in function .fillna() to replace the missing values,"
   ]
  },
  {
   "cell_type": "code",
   "execution_count": 31,
   "id": "0f9b6bab",
   "metadata": {},
   "outputs": [
    {
     "name": "stdout",
     "output_type": "stream",
     "text": [
      "\n",
      "DataFrame without replacing missing values:\n",
      "    Min.Price  Max.Price\n",
      "0       12.9       18.8\n",
      "1       29.2       38.7\n",
      "2       25.9       32.3\n",
      "3        NaN       44.6\n",
      "4        NaN        NaN\n",
      "\n",
      "DataFrame with replacing missing values:\n",
      "    Min.Price  Max.Price\n",
      "0  12.900000  18.800000\n",
      "1  29.200000  38.700000\n",
      "2  25.900000  32.300000\n",
      "3  17.118605  44.600000\n",
      "4  17.118605  21.459091\n"
     ]
    }
   ],
   "source": [
    "df_new = df.copy()\n",
    "print(\"\\nDataFrame without replacing missing values:\\n\", df_new[['Min.Price', 'Max.Price']].head(5))\n",
    "df_new.loc[:,'Min.Price'] = df_new['Min.Price'].fillna(df_new['Min.Price'].mean())\n",
    "df_new.loc[:,'Max.Price'] = df_new['Max.Price'].fillna(df_new['Max.Price'].mean())\n",
    "print(\"\\nDataFrame with replacing missing values:\\n\", df_new[['Min.Price', 'Max.Price']].head(5))"
   ]
  },
  {
   "cell_type": "markdown",
   "id": "0cfcac86",
   "metadata": {},
   "source": [
    "#### 3. Filtering a dataframe rows\n",
    "This question asks for the rows of a dataframe with row sum>100."
   ]
  },
  {
   "cell_type": "code",
   "execution_count": 43,
   "id": "f5e9018b",
   "metadata": {},
   "outputs": [],
   "source": [
    "# Creating a dataframe with random integers\n",
    "df = pd.DataFrame(np.random.randint(10, 40, 60).reshape(-1, 4))"
   ]
  },
  {
   "cell_type": "code",
   "execution_count": 54,
   "id": "5113ac0b",
   "metadata": {},
   "outputs": [
    {
     "name": "stdout",
     "output_type": "stream",
     "text": [
      "All the rows of the dataframe with row sum>100:\n",
      "\n",
      "     0   1   2   3\n",
      "1   26  32  31  34\n",
      "3   25  35  39  15\n",
      "4   34  30  35  28\n",
      "6   19  36  24  30\n",
      "7   12  37  29  38\n",
      "10  26  31  34  28\n",
      "11  32  34  10  35\n",
      "13  30  21  37  30\n"
     ]
    }
   ],
   "source": [
    "print(\"All the rows of the dataframe with row sum>100:\\n\")\n",
    "print(df.loc[df.sum(axis=1) > 100])"
   ]
  }
 ],
 "metadata": {
  "kernelspec": {
   "display_name": ".venv",
   "language": "python",
   "name": "python3"
  },
  "language_info": {
   "codemirror_mode": {
    "name": "ipython",
    "version": 3
   },
   "file_extension": ".py",
   "mimetype": "text/x-python",
   "name": "python",
   "nbconvert_exporter": "python",
   "pygments_lexer": "ipython3",
   "version": "3.13.2"
  }
 },
 "nbformat": 4,
 "nbformat_minor": 5
}
