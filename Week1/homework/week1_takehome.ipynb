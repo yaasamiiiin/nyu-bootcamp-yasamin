{
 "cells": [
  {
   "cell_type": "markdown",
   "id": "15b66503",
   "metadata": {},
   "source": [
    "## Data Science BootCamp Week 1 Take Home\n",
    "#### Chapter 1, Monday sessions\n",
    "By Yasamin Esmaeili"
   ]
  },
  {
   "cell_type": "markdown",
   "id": "aa97f7c4",
   "metadata": {},
   "source": [
    "### Supplementary 1. Fibonacci Series\n",
    "\n",
    "Fibonacci series is a simple recursive rule: F(n) = F(n-1) + F(n-2). The first two elements are defined before the recursion: 0, and 1"
   ]
  },
  {
   "cell_type": "code",
   "execution_count": 1,
   "id": "bf7cf960",
   "metadata": {},
   "outputs": [
    {
     "name": "stdout",
     "output_type": "stream",
     "text": [
      "The first 10 elements of the fibonacci series are: [0, 1, 1, 2, 3, 5, 8, 13, 21, 34]\n"
     ]
    }
   ],
   "source": [
    "fib = [0,1]\n",
    "n = 10\n",
    "for i in range(2, n):\n",
    "    fib.append(fib[-1] + fib[-2])   #   Adds the last two elements of the list together and appends to the list\n",
    "print(f\"The first {n} elements of the fibonacci series are: {fib}\")"
   ]
  },
  {
   "cell_type": "markdown",
   "id": "7d597872",
   "metadata": {},
   "source": [
    "This approach might not be ideal, since the list could get large with more elements. Another approach is to only keep 2 elements: the two previous elements in the list, and update them in every iteration"
   ]
  },
  {
   "cell_type": "code",
   "execution_count": 2,
   "id": "1b06c8e5",
   "metadata": {},
   "outputs": [
    {
     "name": "stdout",
     "output_type": "stream",
     "text": [
      "The first 10 elements of the fibonacci series are: 0, 1, 1, 2, 3, 5, 8, 13, 21, 34 "
     ]
    }
   ],
   "source": [
    "e_0 = 0 #   first element is 0\n",
    "e_1 = 1 #   second element is 1\n",
    "n = 10  \n",
    "print(f\"The first {n} elements of the fibonacci series are: {e_0}, {e_1}\", end=\", \")  #   print the first two elements\n",
    "\n",
    "for i in range(2, n-1):\n",
    "    e_n = e_0 + e_1  #   current element is the sum of the two previous elements\n",
    "    e_0 = e_1       #   update the previous two elements for the next iteration\n",
    "    e_1 = e_n\n",
    "    print(e_n, end=\", \") #   print the current element\n",
    "\n",
    "e_n = e_0 + e_1  #   last element\n",
    "print(e_n, end=\" \") "
   ]
  },
  {
   "cell_type": "markdown",
   "id": "d572374c",
   "metadata": {},
   "source": [
    "### Supplementary 2. Odd indices of a list\n",
    "Two approaches: One only loops over the odd values, starting from 1 with jumping every other indices.\n",
    "\n",
    "The other approach loops over all indices, checks if they are odd, and displays them if so. This has twice the number of iterations, so probably slower."
   ]
  },
  {
   "cell_type": "code",
   "execution_count": 3,
   "id": "ff1945c5",
   "metadata": {},
   "outputs": [
    {
     "name": "stdout",
     "output_type": "stream",
     "text": [
      "1 3 5 7 9 11 13 15 17 19 "
     ]
    }
   ],
   "source": [
    "# First Approach\n",
    "my_list = range(0,21)   # Creates a list from 0 to 20,\n",
    "# we start from 0 to make sure that the odd indices are also odd numbers\n",
    "\n",
    "# Loops over odd indices only\n",
    "for i in range(1, len(my_list), 2):\n",
    "    print(my_list[i], end=\" \")   # Prints the element at the odd index\n"
   ]
  },
  {
   "cell_type": "code",
   "execution_count": 4,
   "id": "d34c707a",
   "metadata": {},
   "outputs": [
    {
     "name": "stdout",
     "output_type": "stream",
     "text": [
      "1 3 5 7 9 11 13 15 17 19 "
     ]
    }
   ],
   "source": [
    "# Second Approach\n",
    "for i in range(len(my_list)):\n",
    "    if i % 2 != 0:   # Checks if the index is odd\n",
    "        print(my_list[i], end=\" \")   # Prints the element at the odd index"
   ]
  },
  {
   "cell_type": "markdown",
   "id": "bdf9d29f",
   "metadata": {},
   "source": [
    "### Supplementary 3. Counting number of different words\n",
    "All we need to do is to use the built-in function \".split()\" to get the unique words. This string has both spaces and newlines so we use the default of the function, that separates them both."
   ]
  },
  {
   "cell_type": "code",
   "execution_count": 5,
   "id": "fcf68981",
   "metadata": {},
   "outputs": [
    {
     "name": "stdout",
     "output_type": "stream",
     "text": [
      "The number of words in the string is: 62\n",
      "The number of unique words in the string is: 47\n"
     ]
    }
   ],
   "source": [
    "string = \"\"\"\n",
    "I have provided this text to provide tips on creating interesting paragraphs.\n",
    "First, start with a clear topic sentence that introduces the main idea.\n",
    "Then, support the topic sentence with specific details, examples, and evidence.\n",
    "Vary the sentence length and structure to keep the reader engaged.\n",
    "Finally, end with a strong concluding sentence that summarizes the main points.\n",
    "Remember, practice makes perfect!\n",
    "\"\"\"\n",
    "\n",
    "list = string.split()  #   Splits the string into a list of words\n",
    "#print(list)\n",
    "print(f\"The number of words in the string is: {len(list)}\")\n",
    "unique_words = set(list)  #   Creates a set of unique words from the list, because sets do not allow duplicates\n",
    "print(f\"The number of unique words in the string is: {len(unique_words)}\")"
   ]
  },
  {
   "cell_type": "markdown",
   "id": "43be70e6",
   "metadata": {},
   "source": [
    "### 1. Count vowels\n",
    "A function that takes a word and returns the number of vowels. Two approaches come in mind: \n",
    "1. To loop over all the characters in the word and check if they are one of the 5 possible vowels, if so, add one to the total count.\n",
    "2. To only loop over the possible vowels, and use the built-in function for strings, that return the number of appearance of their input (here, the vowel), and add it to the total count of vowels.\n",
    "\n",
    "We also make sure that the input is a single word, otherwise it will display an error message. We make sure the to make all the characters lower case, so the function will be case insensitive.\n"
   ]
  },
  {
   "cell_type": "code",
   "execution_count": 6,
   "id": "0dade2a8",
   "metadata": {},
   "outputs": [],
   "source": [
    "def count_vowels(word):\n",
    "    if len(word.split())>1:  #   Check if the input is a single word\n",
    "        print(\"Error: Please enter a single word.\")\n",
    "    else:\n",
    "        word = word.lower()  #   Convert the word to lowercase to make the function case-insensitive\n",
    "        vowels = \"aeiou\"  #   List of all possible vowels\n",
    "        count = 0\n",
    "        for char in word:\n",
    "            if char in vowels:\n",
    "                count += 1\n",
    "        return count"
   ]
  },
  {
   "cell_type": "code",
   "execution_count": 7,
   "id": "57b1c738",
   "metadata": {},
   "outputs": [
    {
     "name": "stdout",
     "output_type": "stream",
     "text": [
      "Error: Please enter a single word.\n",
      "The number of vowels are 2.\n",
      "The number of vowels are 5.\n"
     ]
    }
   ],
   "source": [
    "count_vowels(string)\n",
    "print(f\"The number of vowels are {count_vowels('Hello')}.\")\n",
    "print(f\"The number of vowels are {count_vowels('Correlation')}.\")"
   ]
  },
  {
   "cell_type": "code",
   "execution_count": 8,
   "id": "c67bb61a",
   "metadata": {},
   "outputs": [],
   "source": [
    "def count_vowels(word):\n",
    "    if len(word.split())>1:  #   Check if the input is a single word\n",
    "        print(\"Error: Please enter a single word.\")\n",
    "    else:\n",
    "        word = word.lower()  #   Convert the word to lowercase to make the function case-insensitive\n",
    "        vowels = \"aeiou\"  #   List of all possible vowels\n",
    "        count = 0\n",
    "        for char in vowels:\n",
    "            count += word.count(char)  #   Count the occurrences of each vowel in the word and add to the total count\n",
    "        return count"
   ]
  },
  {
   "cell_type": "code",
   "execution_count": 9,
   "id": "984749d7",
   "metadata": {},
   "outputs": [
    {
     "name": "stdout",
     "output_type": "stream",
     "text": [
      "Error: Please enter a single word.\n",
      "The number of vowels are 2.\n",
      "The number of vowels are 5.\n"
     ]
    }
   ],
   "source": [
    "count_vowels(string)\n",
    "print(f\"The number of vowels are {count_vowels('Hello')}.\")\n",
    "print(f\"The number of vowels are {count_vowels('Correlation')}.\")"
   ]
  },
  {
   "cell_type": "markdown",
   "id": "3c27ae3f",
   "metadata": {},
   "source": [
    "### 2. All-caps \n",
    "Iterate through the list of animals and print each one in all caps.\n",
    "\n",
    "The trick is the built-in function .upper()"
   ]
  },
  {
   "cell_type": "code",
   "execution_count": 10,
   "id": "f96a2018",
   "metadata": {},
   "outputs": [
    {
     "name": "stdout",
     "output_type": "stream",
     "text": [
      "TIGER ELEPHANT MONKEY ZEBRA PANTHER "
     ]
    }
   ],
   "source": [
    "animals=['tiger', 'elephant', 'monkey', 'zebra', 'panther']\n",
    "\n",
    "for animal in animals:\n",
    "    print(animal.upper(), end=\" \")"
   ]
  },
  {
   "cell_type": "markdown",
   "id": "d43044e8",
   "metadata": {},
   "source": [
    "### 3. Loop over numbers: odd or even?\n",
    "The simple arithmetic operation %, helps with this. The remainder of an odd number for 2 is 1 and en even number is 0."
   ]
  },
  {
   "cell_type": "code",
   "execution_count": 11,
   "id": "3264533e",
   "metadata": {},
   "outputs": [
    {
     "name": "stdout",
     "output_type": "stream",
     "text": [
      "1 is odd.\n",
      "2 is even.\n",
      "3 is odd.\n",
      "4 is even.\n",
      "5 is odd.\n",
      "6 is even.\n",
      "7 is odd.\n",
      "8 is even.\n",
      "9 is odd.\n",
      "10 is even.\n",
      "11 is odd.\n",
      "12 is even.\n",
      "13 is odd.\n",
      "14 is even.\n",
      "15 is odd.\n",
      "16 is even.\n",
      "17 is odd.\n",
      "18 is even.\n",
      "19 is odd.\n",
      "20 is even.\n"
     ]
    }
   ],
   "source": [
    "for i in range(1,21):\n",
    "    if i % 2 == 0:\n",
    "        print(f\"{i} is even.\")\n",
    "    else:\n",
    "        print(f\"{i} is odd.\")"
   ]
  },
  {
   "cell_type": "markdown",
   "id": "dde00ecb",
   "metadata": {},
   "source": [
    "### 4. Palindrome\n",
    "The goal here is to check is a string is a palindrome(i.e. a sequence that reads the same backwards and forwards). The trick is to split the string in two, reversing the order in one, and comparing them."
   ]
  },
  {
   "cell_type": "code",
   "execution_count": 12,
   "id": "624611c6",
   "metadata": {},
   "outputs": [],
   "source": [
    "def palindrome(string):\n",
    "    string = string.lower()  #   Case-insensitive\n",
    "    mid = len(string) // 2  #   Find the middle index\n",
    "    if len(string) % 2 == 0:  #   If the length of the string is even\n",
    "        first_half = string[:mid]  #   First half is from the start to the middle\n",
    "        second_half = string[mid:]  #   Second half is from the middle to the end\n",
    "    else:  #   If the length of the string is odd\n",
    "        first_half = string[:mid]  #   First half is from the start to the middle\n",
    "        second_half = string[mid+1:]  #   Second half is from the middle+1 to the end\n",
    "\n",
    "    if first_half == second_half[::-1]:  #   Check if the first half is equal to the reverse of the second half\n",
    "        return True\n",
    "    else:\n",
    "        return False"
   ]
  },
  {
   "cell_type": "code",
   "execution_count": 13,
   "id": "a4859f70",
   "metadata": {},
   "outputs": [
    {
     "name": "stdout",
     "output_type": "stream",
     "text": [
      "True\n",
      "False\n"
     ]
    }
   ],
   "source": [
    "print(palindrome(\"madam\"))\n",
    "print(palindrome(\"hello\"))"
   ]
  },
  {
   "cell_type": "markdown",
   "id": "e730d9a3",
   "metadata": {},
   "source": [
    "### 5. Sum of integers\n",
    "I guess this one is obvious."
   ]
  },
  {
   "cell_type": "code",
   "execution_count": 14,
   "id": "cd0f4918",
   "metadata": {},
   "outputs": [],
   "source": [
    "def sum_of_integers(a,b):\n",
    "    return(a+b)"
   ]
  },
  {
   "cell_type": "code",
   "execution_count": 15,
   "id": "2c6eb9cb",
   "metadata": {},
   "outputs": [
    {
     "data": {
      "text/plain": [
       "8"
      ]
     },
     "execution_count": 15,
     "metadata": {},
     "output_type": "execute_result"
    }
   ],
   "source": [
    "sum_of_integers(3,5)"
   ]
  },
  {
   "cell_type": "markdown",
   "id": "bb77881d",
   "metadata": {},
   "source": [
    "### Additional Challenge - Books data challenge"
   ]
  },
  {
   "cell_type": "code",
   "execution_count": 16,
   "id": "8b7ed514",
   "metadata": {},
   "outputs": [],
   "source": [
    "books = [\n",
    "    {\n",
    "        \"title\": \"The Great Gatsby\",\n",
    "        \"author\": \"F. Scott Fitzgerald\",\n",
    "        \"genre\": \"Fiction\",\n",
    "        \"rating\": 4.2\n",
    "    },\n",
    "    {\n",
    "        \"title\": \"To Kill a Mockingbird\",\n",
    "        \"author\": \"Harper Lee\",\n",
    "        \"genre\": \"Classic\",\n",
    "        \"rating\": 4.5\n",
    "    },\n",
    "    {\n",
    "        \"title\": \"1984\",\n",
    "        \"author\": \"George Orwell\",\n",
    "        \"genre\": \"Dystopian\",\n",
    "        \"rating\": 4.8\n",
    "    },\n",
    "    {\n",
    "        \"title\": \"Pride and Prejudice\",\n",
    "        \"author\": \"Jane Austen\",\n",
    "        \"genre\": \"Romance\",\n",
    "        \"rating\": 4.7\n",
    "    },\n",
    "    {\n",
    "        \"title\": \"Harry Potter and the Sorcerer's Stone\",\n",
    "        \"author\": \"J.K. Rowling\",\n",
    "        \"genre\": \"Fantasy\",\n",
    "        \"rating\": 4.9\n",
    "    },\n",
    "    {\n",
    "        \"title\": \"The Catcher in the Rye\",\n",
    "        \"author\": \"J.D. Salinger\",\n",
    "        \"genre\": \"Coming-of-age\",\n",
    "        \"rating\": 4.1\n",
    "    }\n",
    "]"
   ]
  },
  {
   "cell_type": "markdown",
   "id": "54daaf70",
   "metadata": {},
   "source": [
    "#### 1. Checking book ratings"
   ]
  },
  {
   "cell_type": "code",
   "execution_count": 17,
   "id": "fac31932",
   "metadata": {},
   "outputs": [],
   "source": [
    "def check_rating(book):\n",
    "    if book[\"rating\"] > 4.5:\n",
    "        return True\n",
    "    else:\n",
    "        return False"
   ]
  },
  {
   "cell_type": "code",
   "execution_count": 18,
   "id": "76fb0767",
   "metadata": {},
   "outputs": [
    {
     "name": "stdout",
     "output_type": "stream",
     "text": [
      "'The Great Gatsby' has a rating above 4.5: False\n",
      "'To Kill a Mockingbird' has a rating above 4.5: False\n",
      "'1984' has a rating above 4.5: True\n",
      "'Pride and Prejudice' has a rating above 4.5: True\n",
      "'Harry Potter and the Sorcerer's Stone' has a rating above 4.5: True\n",
      "'The Catcher in the Rye' has a rating above 4.5: False\n"
     ]
    }
   ],
   "source": [
    "# Testing the check_rating function\n",
    "for book in books:\n",
    "    print(f\"'{book['title']}' has a rating above 4.5: {check_rating(book)}\")"
   ]
  },
  {
   "cell_type": "code",
   "execution_count": 19,
   "id": "a6f32345",
   "metadata": {},
   "outputs": [],
   "source": [
    "# A more detailed version of the function\n",
    "def check_rating(book):\n",
    "    if book['rating'] <= 4.0:\n",
    "        return 'low'\n",
    "    elif book['rating'] <= 4.5:\n",
    "        return 'medium'\n",
    "    else:\n",
    "        return 'high'"
   ]
  },
  {
   "cell_type": "code",
   "execution_count": 20,
   "id": "7314f86f",
   "metadata": {},
   "outputs": [
    {
     "name": "stdout",
     "output_type": "stream",
     "text": [
      "'The Great Gatsby' has a medium rating.\n",
      "'To Kill a Mockingbird' has a medium rating.\n",
      "'1984' has a high rating.\n",
      "'Pride and Prejudice' has a high rating.\n",
      "'Harry Potter and the Sorcerer's Stone' has a high rating.\n",
      "'The Catcher in the Rye' has a medium rating.\n"
     ]
    }
   ],
   "source": [
    "# Testing the new version of check_rating function\n",
    "for book in books:\n",
    "    print(f\"'{book['title']}' has a {check_rating(book)} rating.\")"
   ]
  },
  {
   "cell_type": "markdown",
   "id": "0f713e59",
   "metadata": {},
   "source": [
    "#### 2. Average rating by genre\n",
    "The idea is to loop over all the dictionaries nested in the list, and look into values paired with the key \"genre\". If the genre matches, we take the value paired with \"rating\"."
   ]
  },
  {
   "cell_type": "code",
   "execution_count": 21,
   "id": "022daa24",
   "metadata": {},
   "outputs": [],
   "source": [
    "def average_rating_by_genre(books, genre):\n",
    "    sum_rating = 0\n",
    "    count = 0\n",
    "    for book in books:\n",
    "        if book['genre'].lower() == genre.lower():  # Case-insensitive comparison\n",
    "            sum_rating += book['rating']\n",
    "            count += 1\n",
    "    if count == 0:\n",
    "        return f\"No books found in the genre '{genre}'.\"\n",
    "    else:\n",
    "        return sum_rating / count"
   ]
  },
  {
   "cell_type": "code",
   "execution_count": 22,
   "id": "8e35acc7",
   "metadata": {},
   "outputs": [
    {
     "name": "stdout",
     "output_type": "stream",
     "text": [
      "Average rating for Fiction: 4.9\n",
      "Average rating for History: No books found in the genre 'History'.\n"
     ]
    }
   ],
   "source": [
    "# Testing the function\n",
    "print(f\"Average rating for Fiction: {average_rating_by_genre(books, 'Fantasy')}\")\n",
    "print(f\"Average rating for History: {average_rating_by_genre(books, 'History')}\")"
   ]
  },
  {
   "cell_type": "markdown",
   "id": "03c35b6a",
   "metadata": {},
   "source": [
    "#### 3. Books by author\n",
    "Similar idea as last one, checks all the dictionaries, looks for the pair of 'author' key and the name as the value, and appends the name to a list. Finally, it returns the list, if nonempty, otherwise a custom error message."
   ]
  },
  {
   "cell_type": "code",
   "execution_count": 23,
   "id": "f5145eb6",
   "metadata": {},
   "outputs": [],
   "source": [
    "def books_by_author(books, author):\n",
    "    book_list = []\n",
    "    for book in books:\n",
    "        if book['author'].lower() == author.lower():  # Case-insensitive comparison\n",
    "            book_list.append(book['title'])\n",
    "    if len(book_list) == 0:\n",
    "        return f\"No books found by author '{author}'.\"\n",
    "    else:\n",
    "        return book_list"
   ]
  },
  {
   "cell_type": "code",
   "execution_count": 24,
   "id": "b0d048ac",
   "metadata": {},
   "outputs": [
    {
     "name": "stdout",
     "output_type": "stream",
     "text": [
      "[\"Harry Potter and the Sorcerer's Stone\"]\n",
      "No books found by author 'Unknown'.\n"
     ]
    }
   ],
   "source": [
    "# testing the function\n",
    "print(books_by_author(books, 'J.K. Rowling'))\n",
    "print(books_by_author(books, 'Unknown'))"
   ]
  }
 ],
 "metadata": {
  "kernelspec": {
   "display_name": ".venv",
   "language": "python",
   "name": "python3"
  },
  "language_info": {
   "codemirror_mode": {
    "name": "ipython",
    "version": 3
   },
   "file_extension": ".py",
   "mimetype": "text/x-python",
   "name": "python",
   "nbconvert_exporter": "python",
   "pygments_lexer": "ipython3",
   "version": "3.11.1"
  }
 },
 "nbformat": 4,
 "nbformat_minor": 5
}
